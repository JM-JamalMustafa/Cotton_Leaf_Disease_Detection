{
 "cells": [
  {
   "cell_type": "code",
   "execution_count": 1,
   "id": "color-methodology",
   "metadata": {
    "_cell_guid": "b1076dfc-b9ad-4769-8c92-a6c4dae69d19",
    "_uuid": "8f2839f25d086af736a60e9eeb907d3b93b6e0e5",
    "papermill": {
     "duration": 5.686857,
     "end_time": "2021-06-08T10:27:39.441683",
     "exception": false,
     "start_time": "2021-06-08T10:27:33.754826",
     "status": "completed"
    },
    "tags": []
   },
   "outputs": [],
   "source": [
    "import tensorflow \n",
    "\n",
    "import pandas as pd\n",
    "import numpy as np\n",
    "import os\n",
    "import keras\n",
    "import random\n",
    "import cv2\n",
    "import math\n",
    "import seaborn as sns\n",
    "\n",
    "from sklearn.metrics import confusion_matrix\n",
    "from sklearn.preprocessing import LabelBinarizer\n",
    "from sklearn.model_selection import train_test_split\n",
    "\n",
    "import matplotlib.pyplot as plt\n",
    "\n",
    "from tensorflow.keras.layers import Dense,GlobalAveragePooling2D,Convolution2D,BatchNormalization\n",
    "from tensorflow.keras.layers import Flatten,MaxPooling2D,Dropout\n",
    "\n",
    "from tensorflow.keras.applications import DenseNet121\n",
    "from tensorflow.keras.applications.densenet import preprocess_input\n",
    "\n",
    "from tensorflow.keras.preprocessing import image\n",
    "from tensorflow.keras.preprocessing.image import ImageDataGenerator,img_to_array\n",
    "\n",
    "from tensorflow.keras.models import Model\n",
    "\n",
    "from tensorflow.keras.optimizers import Adam\n",
    "\n",
    "from tensorflow.keras.callbacks import ModelCheckpoint, ReduceLROnPlateau\n",
    "\n",
    "import warnings\n",
    "warnings.filterwarnings(\"ignore\")"
   ]
  },
  {
   "cell_type": "code",
   "execution_count": 2,
   "id": "exotic-civilization",
   "metadata": {
    "papermill": {
     "duration": 0.016712,
     "end_time": "2021-06-08T10:27:39.467713",
     "exception": false,
     "start_time": "2021-06-08T10:27:39.451001",
     "status": "completed"
    },
    "tags": []
   },
   "outputs": [
    {
     "name": "stdout",
     "output_type": "stream",
     "text": [
      "Tensorflow-version: 2.16.1\n"
     ]
    }
   ],
   "source": [
    "print(\"Tensorflow-version:\", tensorflow.__version__)"
   ]
  },
  {
   "cell_type": "code",
   "execution_count": 3,
   "id": "differential-dryer",
   "metadata": {
    "papermill": {
     "duration": 5.065603,
     "end_time": "2021-06-08T10:27:44.541225",
     "exception": false,
     "start_time": "2021-06-08T10:27:39.475622",
     "status": "completed"
    },
    "tags": []
   },
   "outputs": [
    {
     "name": "stdout",
     "output_type": "stream",
     "text": [
      "Downloading data from https://storage.googleapis.com/tensorflow/keras-applications/densenet/densenet121_weights_tf_dim_ordering_tf_kernels_notop.h5\n",
      "\u001b[1m29084464/29084464\u001b[0m \u001b[32m━━━━━━━━━━━━━━━━━━━━\u001b[0m\u001b[37m\u001b[0m \u001b[1m44s\u001b[0m 1us/step\n"
     ]
    }
   ],
   "source": [
    "model_d=DenseNet121(weights='imagenet',include_top=False, input_shape=(256, 256, 3)) \n",
    "\n",
    "x=model_d.output\n",
    "\n",
    "x= GlobalAveragePooling2D()(x)\n",
    "x= BatchNormalization()(x)\n",
    "x= Dropout(0.5)(x)\n",
    "x= Dense(1024,activation='relu')(x) \n",
    "x= Dense(512,activation='relu')(x) \n",
    "x= BatchNormalization()(x)\n",
    "x= Dropout(0.5)(x)\n",
    "\n",
    "preds=Dense(4,activation='softmax')(x) #FC-layer"
   ]
  },
  {
   "cell_type": "code",
   "execution_count": 4,
   "id": "golden-throat",
   "metadata": {
    "papermill": {
     "duration": 0.039488,
     "end_time": "2021-06-08T10:27:44.591581",
     "exception": false,
     "start_time": "2021-06-08T10:27:44.552093",
     "status": "completed"
    },
    "tags": []
   },
   "outputs": [],
   "source": [
    "model=Model(inputs=model_d.input,outputs=preds)\n",
    "#model.summary()"
   ]
  },
  {
   "cell_type": "code",
   "execution_count": 5,
   "id": "patent-bradford",
   "metadata": {
    "papermill": {
     "duration": 0.028773,
     "end_time": "2021-06-08T10:27:44.630203",
     "exception": false,
     "start_time": "2021-06-08T10:27:44.601430",
     "status": "completed"
    },
    "tags": []
   },
   "outputs": [],
   "source": [
    "for layer in model.layers[:-8]:\n",
    "    layer.trainable=False\n",
    "    \n",
    "for layer in model.layers[-8:]:\n",
    "    layer.trainable=True"
   ]
  },
  {
   "cell_type": "code",
   "execution_count": 6,
   "id": "cubic-survivor",
   "metadata": {
    "papermill": {
     "duration": 0.032184,
     "end_time": "2021-06-08T10:27:44.671735",
     "exception": false,
     "start_time": "2021-06-08T10:27:44.639551",
     "status": "completed"
    },
    "tags": []
   },
   "outputs": [],
   "source": [
    "model.compile(optimizer='Adam',loss='categorical_crossentropy',metrics=['accuracy'])\n",
    "#model.summary()"
   ]
  },
  {
   "cell_type": "code",
   "execution_count": 9,
   "id": "packed-iceland",
   "metadata": {
    "papermill": {
     "duration": 0.540319,
     "end_time": "2021-06-08T10:27:45.221861",
     "exception": false,
     "start_time": "2021-06-08T10:27:44.681542",
     "status": "completed"
    },
    "tags": []
   },
   "outputs": [
    {
     "name": "stdout",
     "output_type": "stream",
     "text": [
      "Found 1951 images belonging to 4 classes.\n",
      "Found 18 images belonging to 4 classes.\n"
     ]
    }
   ],
   "source": [
    "trdata = ImageDataGenerator(rescale = 1./255,\n",
    "                                   shear_range = 0.2,\n",
    "                                   zoom_range = 0.2,\n",
    "                                   horizontal_flip = True)\n",
    "\n",
    "tsdata = ImageDataGenerator(rescale = 1./255)\n",
    "traindata = trdata.flow_from_directory(directory=\"C:/Users/Jamal/Downloads/Compressed/data/train\",target_size=(256,256),batch_size = 32,\n",
    "                                                 class_mode = 'categorical')\n",
    "testdata = tsdata.flow_from_directory(directory=\"C:/Users/Jamal/Downloads/Compressed/data/test\", target_size=(256,256),batch_size = 32,\n",
    "                                                 class_mode = 'categorical')"
   ]
  },
  {
   "cell_type": "code",
   "execution_count": 14,
   "id": "collected-disabled",
   "metadata": {
    "papermill": {
     "duration": 769.341224,
     "end_time": "2021-06-08T10:40:34.574503",
     "exception": false,
     "start_time": "2021-06-08T10:27:45.233279",
     "status": "completed"
    },
    "tags": []
   },
   "outputs": [
    {
     "name": "stdout",
     "output_type": "stream",
     "text": [
      "Epoch 1/20\n",
      "\u001b[1m61/61\u001b[0m \u001b[32m━━━━━━━━━━━━━━━━━━━━\u001b[0m\u001b[37m\u001b[0m \u001b[1m575s\u001b[0m 8s/step - accuracy: 0.6954 - loss: 0.9315 - val_accuracy: 0.7222 - val_loss: 0.6056\n",
      "Epoch 2/20\n",
      "\u001b[1m61/61\u001b[0m \u001b[32m━━━━━━━━━━━━━━━━━━━━\u001b[0m\u001b[37m\u001b[0m \u001b[1m285s\u001b[0m 4s/step - accuracy: 0.8876 - loss: 0.3224 - val_accuracy: 0.9444 - val_loss: 0.4366\n",
      "Epoch 3/20\n",
      "\u001b[1m61/61\u001b[0m \u001b[32m━━━━━━━━━━━━━━━━━━━━\u001b[0m\u001b[37m\u001b[0m \u001b[1m270s\u001b[0m 4s/step - accuracy: 0.8951 - loss: 0.3456 - val_accuracy: 0.8889 - val_loss: 0.4671\n",
      "Epoch 4/20\n",
      "\u001b[1m61/61\u001b[0m \u001b[32m━━━━━━━━━━━━━━━━━━━━\u001b[0m\u001b[37m\u001b[0m \u001b[1m278s\u001b[0m 4s/step - accuracy: 0.9136 - loss: 0.2445 - val_accuracy: 0.8889 - val_loss: 0.4980\n",
      "Epoch 5/20\n",
      "\u001b[1m61/61\u001b[0m \u001b[32m━━━━━━━━━━━━━━━━━━━━\u001b[0m\u001b[37m\u001b[0m \u001b[1m326s\u001b[0m 5s/step - accuracy: 0.9192 - loss: 0.1988 - val_accuracy: 0.8889 - val_loss: 0.4696\n",
      "Epoch 6/20\n",
      "\u001b[1m61/61\u001b[0m \u001b[32m━━━━━━━━━━━━━━━━━━━━\u001b[0m\u001b[37m\u001b[0m \u001b[1m358s\u001b[0m 6s/step - accuracy: 0.9236 - loss: 0.2333 - val_accuracy: 0.9444 - val_loss: 0.4947\n",
      "Epoch 7/20\n",
      "\u001b[1m61/61\u001b[0m \u001b[32m━━━━━━━━━━━━━━━━━━━━\u001b[0m\u001b[37m\u001b[0m \u001b[1m356s\u001b[0m 6s/step - accuracy: 0.9303 - loss: 0.2028 - val_accuracy: 0.8889 - val_loss: 0.6202\n",
      "Epoch 8/20\n",
      "\u001b[1m61/61\u001b[0m \u001b[32m━━━━━━━━━━━━━━━━━━━━\u001b[0m\u001b[37m\u001b[0m \u001b[1m359s\u001b[0m 6s/step - accuracy: 0.9401 - loss: 0.1807 - val_accuracy: 0.8889 - val_loss: 0.4422\n",
      "Epoch 9/20\n",
      "\u001b[1m61/61\u001b[0m \u001b[32m━━━━━━━━━━━━━━━━━━━━\u001b[0m\u001b[37m\u001b[0m \u001b[1m360s\u001b[0m 6s/step - accuracy: 0.9384 - loss: 0.1818 - val_accuracy: 0.9444 - val_loss: 0.4731\n",
      "Epoch 10/20\n",
      "\u001b[1m61/61\u001b[0m \u001b[32m━━━━━━━━━━━━━━━━━━━━\u001b[0m\u001b[37m\u001b[0m \u001b[1m352s\u001b[0m 6s/step - accuracy: 0.9212 - loss: 0.2421 - val_accuracy: 0.9444 - val_loss: 0.3387\n",
      "Epoch 11/20\n",
      "\u001b[1m61/61\u001b[0m \u001b[32m━━━━━━━━━━━━━━━━━━━━\u001b[0m\u001b[37m\u001b[0m \u001b[1m355s\u001b[0m 6s/step - accuracy: 0.9473 - loss: 0.1565 - val_accuracy: 0.9444 - val_loss: 0.3748\n",
      "Epoch 12/20\n",
      "\u001b[1m61/61\u001b[0m \u001b[32m━━━━━━━━━━━━━━━━━━━━\u001b[0m\u001b[37m\u001b[0m \u001b[1m3188s\u001b[0m 53s/step - accuracy: 0.9446 - loss: 0.1624 - val_accuracy: 0.9444 - val_loss: 0.3319\n",
      "Epoch 13/20\n",
      "\u001b[1m61/61\u001b[0m \u001b[32m━━━━━━━━━━━━━━━━━━━━\u001b[0m\u001b[37m\u001b[0m \u001b[1m318s\u001b[0m 5s/step - accuracy: 0.9437 - loss: 0.1530 - val_accuracy: 0.9444 - val_loss: 0.2994\n",
      "Epoch 14/20\n",
      "\u001b[1m61/61\u001b[0m \u001b[32m━━━━━━━━━━━━━━━━━━━━\u001b[0m\u001b[37m\u001b[0m \u001b[1m316s\u001b[0m 5s/step - accuracy: 0.9469 - loss: 0.1429 - val_accuracy: 0.9444 - val_loss: 0.2056\n",
      "Epoch 15/20\n",
      "\u001b[1m61/61\u001b[0m \u001b[32m━━━━━━━━━━━━━━━━━━━━\u001b[0m\u001b[37m\u001b[0m \u001b[1m274s\u001b[0m 4s/step - accuracy: 0.9436 - loss: 0.1674 - val_accuracy: 0.9444 - val_loss: 0.0838\n",
      "Epoch 16/20\n",
      "\u001b[1m61/61\u001b[0m \u001b[32m━━━━━━━━━━━━━━━━━━━━\u001b[0m\u001b[37m\u001b[0m \u001b[1m274s\u001b[0m 4s/step - accuracy: 0.9434 - loss: 0.1780 - val_accuracy: 0.9444 - val_loss: 0.1883\n",
      "Epoch 17/20\n",
      "\u001b[1m61/61\u001b[0m \u001b[32m━━━━━━━━━━━━━━━━━━━━\u001b[0m\u001b[37m\u001b[0m \u001b[1m279s\u001b[0m 4s/step - accuracy: 0.9441 - loss: 0.1537 - val_accuracy: 0.9444 - val_loss: 0.1564\n",
      "Epoch 18/20\n",
      "\u001b[1m61/61\u001b[0m \u001b[32m━━━━━━━━━━━━━━━━━━━━\u001b[0m\u001b[37m\u001b[0m \u001b[1m274s\u001b[0m 4s/step - accuracy: 0.9433 - loss: 0.1420 - val_accuracy: 0.9444 - val_loss: 0.1555\n",
      "Epoch 19/20\n",
      "\u001b[1m61/61\u001b[0m \u001b[32m━━━━━━━━━━━━━━━━━━━━\u001b[0m\u001b[37m\u001b[0m \u001b[1m284s\u001b[0m 5s/step - accuracy: 0.9488 - loss: 0.1303 - val_accuracy: 0.9444 - val_loss: 0.1155\n",
      "Epoch 20/20\n",
      "\u001b[1m61/61\u001b[0m \u001b[32m━━━━━━━━━━━━━━━━━━━━\u001b[0m\u001b[37m\u001b[0m \u001b[1m283s\u001b[0m 5s/step - accuracy: 0.9440 - loss: 0.1475 - val_accuracy: 0.9444 - val_loss: 0.1746\n"
     ]
    }
   ],
   "source": [
    "from keras.callbacks import ModelCheckpoint, EarlyStopping\n",
    "# checkpoint = ModelCheckpoint(\"densenet.h5\", monitor='val_acc', verbose=1, save_best_only=True, save_weights_only=False, mode='auto')\n",
    "early = EarlyStopping(monitor='val_acc', min_delta=0, patience=20, verbose=1, mode='auto')\n",
    "\n",
    "history = model.fit( traindata,validation_data=testdata,epochs=20)"
   ]
  },
  {
   "cell_type": "code",
   "execution_count": 15,
   "id": "subject-section",
   "metadata": {
    "papermill": {
     "duration": 4.944449,
     "end_time": "2021-06-08T10:40:39.844815",
     "exception": false,
     "start_time": "2021-06-08T10:40:34.900366",
     "status": "completed"
    },
    "tags": []
   },
   "outputs": [
    {
     "name": "stdout",
     "output_type": "stream",
     "text": [
      "\u001b[1m1/1\u001b[0m \u001b[32m━━━━━━━━━━━━━━━━━━━━\u001b[0m\u001b[37m\u001b[0m \u001b[1m6s\u001b[0m 6s/step - accuracy: 0.9444 - loss: 0.1746\n",
      "Test set accuracy: 94.44444179534912\n"
     ]
    }
   ],
   "source": [
    "accuracy = model.evaluate(testdata)\n",
    "\n",
    "print('Test set accuracy:', accuracy[1]*100)"
   ]
  },
  {
   "cell_type": "code",
   "execution_count": 16,
   "id": "arctic-sender",
   "metadata": {
    "papermill": {
     "duration": 0.636958,
     "end_time": "2021-06-08T10:40:40.811613",
     "exception": false,
     "start_time": "2021-06-08T10:40:40.174655",
     "status": "completed"
    },
    "tags": []
   },
   "outputs": [
    {
     "data": {
      "image/png": "[encoded data removed]",
      "text/plain": [
       "<Figure size 640x480 with 1 Axes>"
      ]
     },
     "metadata": {},
     "output_type": "display_data"
    },
    {
     "data": {
      "image/png": "[encoded data removed]",
      "text/plain": [
       "<Figure size 640x480 with 1 Axes>"
      ]
     },
     "metadata": {},
     "output_type": "display_data"
    }
   ],
   "source": [
    "import matplotlib.pyplot as plt\n",
    "plt.plot(history.history['accuracy'])\n",
    "plt.plot(history.history['val_accuracy'])\n",
    "plt.title('Model accuracy')\n",
    "plt.ylabel('Accuracy')\n",
    "plt.xlabel('Epoch')\n",
    "plt.legend(['Train', 'Test'], loc='upper left')\n",
    "plt.show()\n",
    "plt.plot(history.history['loss'])\n",
    "plt.plot(history.history['val_loss'])\n",
    "plt.title('Model loss')\n",
    "plt.ylabel('Loss')\n",
    "plt.xlabel('Epoch')\n",
    "plt.legend(['Train', 'Test'], loc='upper left')\n",
    "plt.show()"
   ]
  },
  {
   "cell_type": "code",
   "execution_count": 18,
   "id": "39cc2953-bca8-440f-bc5b-c90289f6880b",
   "metadata": {},
   "outputs": [
    {
     "name": "stdout",
     "output_type": "stream",
     "text": [
      "\u001b[1m1/1\u001b[0m \u001b[32m━━━━━━━━━━━━━━━━━━━━\u001b[0m\u001b[37m\u001b[0m \u001b[1m17s\u001b[0m 17s/step\n"
     ]
    },
    {
     "data": {
      "text/plain": [
       "array([[8.0239488e-07, 9.9994624e-01, 8.3907098e-06, 4.4557866e-05],\n",
       "       [1.1161347e-04, 1.0455279e-08, 9.9988830e-01, 8.5215625e-08],\n",
       "       [2.8156352e-05, 2.2165922e-03, 2.9664693e-04, 9.9745864e-01],\n",
       "       [5.1980367e-04, 9.5062900e-01, 4.4370627e-05, 4.8806909e-02],\n",
       "       [8.5662401e-07, 9.9996722e-01, 1.7474743e-08, 3.1978980e-05],\n",
       "       [3.4700791e-04, 4.9110664e-08, 9.9965262e-01, 3.2982305e-07],\n",
       "       [3.5009132e-06, 9.9999225e-01, 5.6824721e-08, 4.1477815e-06],\n",
       "       [3.2060852e-06, 7.2256898e-09, 9.9980301e-01, 1.9373257e-04],\n",
       "       [8.0392580e-04, 5.4210321e-09, 9.9919182e-01, 4.2758743e-06],\n",
       "       [5.9257235e-07, 4.4243515e-04, 1.2328532e-04, 9.9943358e-01],\n",
       "       [2.6496818e-07, 9.9999964e-01, 1.8887212e-08, 1.6046937e-07],\n",
       "       [3.5743230e-07, 6.0849721e-03, 2.6818043e-07, 9.9391443e-01],\n",
       "       [4.7946963e-04, 1.7987338e-09, 9.9951744e-01, 3.1032434e-06],\n",
       "       [2.5377467e-08, 9.9989951e-01, 7.7451887e-08, 1.0041767e-04],\n",
       "       [9.9998832e-01, 1.4222519e-07, 2.4147994e-06, 9.1752909e-06],\n",
       "       [4.6926666e-06, 1.0564607e-01, 1.8119812e-04, 8.9416802e-01],\n",
       "       [9.9996984e-01, 2.8609094e-05, 1.4168156e-06, 1.2869562e-07],\n",
       "       [9.9997354e-01, 1.0793503e-07, 2.6152869e-05, 3.0825342e-07]],\n",
       "      dtype=float32)"
      ]
     },
     "execution_count": 18,
     "metadata": {},
     "output_type": "execute_result"
    }
   ],
   "source": [
    "y_pred = model.predict(testdata)\n",
    "y_pred"
   ]
  },
  {
   "cell_type": "code",
   "execution_count": 19,
   "id": "2257d049-9c8e-476b-879b-415ae4e63881",
   "metadata": {},
   "outputs": [
    {
     "data": {
      "text/plain": [
       "array([1, 2, 3, 1, 1, 2, 1, 2, 2, 3, 1, 3, 2, 1, 0, 3, 0, 0], dtype=int64)"
      ]
     },
     "execution_count": 19,
     "metadata": {},
     "output_type": "execute_result"
    }
   ],
   "source": [
    "final_pred = np.argmax(y_pred, axis=1)\n",
    "final_pred"
   ]
  },
  {
   "cell_type": "code",
   "execution_count": 20,
   "id": "2d4ef8b8-4982-447f-bcd8-7384f6f3a2d2",
   "metadata": {},
   "outputs": [
    {
     "name": "stderr",
     "output_type": "stream",
     "text": [
      "WARNING:absl:You are saving your model as an HDF5 file via `model.save()` or `keras.saving.save_model(model)`. This file format is considered legacy. We recommend using instead the native Keras format, e.g. `model.save('my_model.keras')` or `keras.saving.save_model(model, 'my_model.keras')`. \n"
     ]
    }
   ],
   "source": [
    "model.save('Densenet121.h5')"
   ]
  },
  {
   "cell_type": "code",
   "execution_count": null,
   "id": "506b2909-1588-4c33-ad6f-af5aab300cac",
   "metadata": {},
   "outputs": [],
   "source": []
  }
 ],
 "metadata": {
  "kernelspec": {
   "display_name": "Python 3 (ipykernel)",
   "language": "python",
   "name": "python3"
  },
  "language_info": {
   "codemirror_mode": {
    "name": "ipython",
    "version": 3
   },
   "file_extension": ".py",
   "mimetype": "text/x-python",
   "name": "python",
   "nbconvert_exporter": "python",
   "pygments_lexer": "ipython3",
   "version": "3.11.7"
  },
  "papermill": {
   "default_parameters": {},
   "duration": 796.945679,
   "end_time": "2021-06-08T10:40:44.120131",
   "environment_variables": {},
   "exception": null,
   "input_path": "__notebook__.ipynb",
   "output_path": "__notebook__.ipynb",
   "parameters": {},
   "start_time": "2021-06-08T10:27:27.174452",
   "version": "2.3.3"
  }
 },
 "nbformat": 4,
 "nbformat_minor": 5
}
